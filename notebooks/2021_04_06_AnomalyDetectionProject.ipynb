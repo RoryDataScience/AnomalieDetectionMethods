{
 "cells": [
  {
   "cell_type": "markdown",
   "metadata": {},
   "source": [
    "# Anomaly/Outlier Detection"
   ]
  },
  {
   "cell_type": "markdown",
   "metadata": {},
   "source": [
    "**Project Overview** <br>\n",
    "Implement and understand the application of a number of outlier/anomaly detection algorithms\n",
    "\n",
    "\n",
    "**Algorithms to Implement**\n",
    "- One-Class Support Vector Machines\n",
    "- Isolation Forests\n",
    "- Local Outlier Factor\n",
    "- Elliptic Envelope\n",
    "- DBSCAN\n",
    "- Multivariate anomalie detection\n",
    "\n",
    "\n",
    "**Loss Functions to Consider**\n",
    "- Log-Loss\n",
    "- https://towardsdatascience.com/the-most-awesome-loss-function-172ffc106c99\n",
    "\n",
    "\n",
    "**Resources - Exploratory Data Analysis** <br>\n",
    "https://towardsdatascience.com/organize-your-data-and-models-using-the-object-oriented-programming-and-pickle-876a6654494 <br>\n",
    "https://www.brighthubpm.com/project-planning/128738-are-your-projects-delivering-business-value/ <br>\n",
    "https://machinelearningmastery.com/framework-for-data-preparation-for-machine-learning/ <br>\n",
    "https://machinelearningmastery.com/sensitivity-analysis-of-dataset-size-vs-model-performance/ <br>\n",
    "\n",
    "\n",
    "**Resources - Anomaly Detection** <br>\n",
    "Andew Ng - Machine Learning Tutorials (YouTube) <br>\n",
    "https://machinelearningmastery.com/model-based-outlier-detection-and-removal-in-python/ <br>\n",
    "https://medium.com/learningdatascience/anomaly-detection-techniques-in-python-50f650c75aaf <br>\n",
    "https://towardsdatascience.com/detecting-credit-card-fraud-using-machine-learning-a3d83423d3b8 <br>\n",
    "https://towardsdatascience.com/build-your-first-anomaly-detector-in-power-bi-using-pycaret-2b41b363244e <br>\n",
    "https://towardsdatascience.com/detecting-weird-data-conformal-anomaly-detection-20afb36c7bcd <br>\n",
    "Multivariate Unsupervised Machine Learning for Anomaly Detection in Enterprise Applications.pdf <br>\n",
    "https://medium.com/pinterest-engineering/building-a-real-time-anomaly-detection-system-for-time-series-at-pinterest-a833e6856ddd <br>\n",
    "https://www.bmc.com/blogs/outlier-and-anomaly-detection/ <br>\n",
    "https://machinelearningmastery.com/how-to-use-statistics-to-identify-outliers-in-data/ <br>\n",
    "https://towardsdatascience.com/unsupervised-machine-learning-approaches-for-outlier-detection-in-time-series-using-python-5759c6394e19 <br>"
   ]
  },
  {
   "cell_type": "code",
   "execution_count": null,
   "metadata": {},
   "outputs": [],
   "source": []
  }
 ],
 "metadata": {
  "kernelspec": {
   "display_name": "Python 3",
   "language": "python",
   "name": "python3"
  },
  "language_info": {
   "codemirror_mode": {
    "name": "ipython",
    "version": 3
   },
   "file_extension": ".py",
   "mimetype": "text/x-python",
   "name": "python",
   "nbconvert_exporter": "python",
   "pygments_lexer": "ipython3",
   "version": "3.6.5"
  }
 },
 "nbformat": 4,
 "nbformat_minor": 4
}
